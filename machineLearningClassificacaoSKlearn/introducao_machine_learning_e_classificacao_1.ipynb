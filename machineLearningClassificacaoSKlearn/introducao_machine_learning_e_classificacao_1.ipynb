{
  "nbformat": 4,
  "nbformat_minor": 0,
  "metadata": {
    "colab": {
      "provenance": []
    },
    "kernelspec": {
      "name": "python3",
      "display_name": "Python 3"
    },
    "language_info": {
      "name": "python"
    }
  },
  "cells": [
    {
      "cell_type": "markdown",
      "source": [
        "A previsão que faremos usa algoritmos de classificação. Esses algorítimos podem ser utilizados para classificar itens ou prever comportamentos de usuário no momento de comprar um produto, por exemplo. Para isso teremos:\n",
        "\n",
        "1.Features \n",
        "\n",
        "2.Itens \n",
        "\n",
        "3.Treino do estimador \n",
        "\n",
        "4.Testes \n",
        "\n",
        "5.Taxa de acerto \n",
        "\n",
        "6.Otimização \n",
        "\n",
        "7.Previsão\n",
        "\n",
        "Faremos tudo isso utilizando Python e a biblioteca scikit-learn, que possui os algorítimos de machine learning. Além disso, usaremos também o Numpy, e Graphviz e Seaborn para visualização dos nossos dados."
      ],
      "metadata": {
        "id": "B4us6E-cdTsf"
      }
    },
    {
      "cell_type": "code",
      "execution_count": 1,
      "metadata": {
        "id": "mkECAUjUaD0H"
      },
      "outputs": [],
      "source": [
        "# features: (1 sim, 0 não)\n",
        "# pelo longo?\n",
        "# perna curta?\n",
        "# faz auau?\n",
        "\n",
        "porco1 = [0,1,0]\n",
        "porco2 = [0,1,1]\n",
        "porco3 = [1,1,0]\n",
        "\n",
        "cachorro1 = [0,1,1]\n",
        "cachorro2 = [1,0,1]\n",
        "cachorro3 = [1,1,1]\n",
        "\n",
        "treino_x = [porco1, porco2, porco3, cachorro1, cachorro2, cachorro3]\n",
        "# 1 = Porco, 0 = cachorro\n",
        "treino_y = [1,1,1,0,0,0] # labels"
      ]
    },
    {
      "cell_type": "code",
      "source": [
        "from sklearn.svm import LinearSVC\n",
        "\n",
        "model = LinearSVC()\n",
        "model.fit(treino_x, treino_y)"
      ],
      "metadata": {
        "colab": {
          "base_uri": "https://localhost:8080/"
        },
        "id": "uJuwmVo1eVDA",
        "outputId": "271452b6-2017-4a49-ec75-02ea4bedf459"
      },
      "execution_count": 2,
      "outputs": [
        {
          "output_type": "execute_result",
          "data": {
            "text/plain": [
              "LinearSVC()"
            ]
          },
          "metadata": {},
          "execution_count": 2
        }
      ]
    },
    {
      "cell_type": "code",
      "source": [
        "animal_misterioso = [1,1,1]\n",
        "model.predict([animal_misterioso])"
      ],
      "metadata": {
        "colab": {
          "base_uri": "https://localhost:8080/"
        },
        "id": "uO_hhnFpfa8J",
        "outputId": "16cb4977-f15b-4a05-bf9c-adc245d324e7"
      },
      "execution_count": 3,
      "outputs": [
        {
          "output_type": "execute_result",
          "data": {
            "text/plain": [
              "array([0])"
            ]
          },
          "metadata": {},
          "execution_count": 3
        }
      ]
    },
    {
      "cell_type": "code",
      "source": [
        "misterio1 = [1,1,1]\n",
        "misterio2 = [1,1,0]\n",
        "misterio3 = [0,1,1]\n",
        "\n",
        "teste_x = [misterio1, misterio2, misterio3]\n",
        "teste_y = [0,1,1]"
      ],
      "metadata": {
        "id": "c_JGldGkfoGg"
      },
      "execution_count": 4,
      "outputs": []
    },
    {
      "cell_type": "code",
      "source": [
        "previsoes = model.predict(teste_x)"
      ],
      "metadata": {
        "id": "jPic6lBipPXl"
      },
      "execution_count": 5,
      "outputs": []
    },
    {
      "cell_type": "code",
      "source": [
        "corretos = (previsoes == teste_y) .sum()\n",
        "total = len(teste_x)\n",
        "taxa_de_acerto = corretos/total\n",
        "print('Taxa de acerto %.2f' % (taxa_de_acerto * 100))"
      ],
      "metadata": {
        "colab": {
          "base_uri": "https://localhost:8080/"
        },
        "id": "JXlyq79JpamN",
        "outputId": "a0ec2a7a-6d6a-43a3-977a-ba33356f21e1"
      },
      "execution_count": 13,
      "outputs": [
        {
          "output_type": "stream",
          "name": "stdout",
          "text": [
            "Taxa de acerto 66.67\n"
          ]
        }
      ]
    },
    {
      "cell_type": "code",
      "source": [
        "from sklearn.metrics import accuracy_score\n",
        "\n",
        "taxa_de_acerto = accuracy_score(teste_y, previsoes)\n",
        "print('Taxa de acerto %.2f' % (taxa_de_acerto * 100))"
      ],
      "metadata": {
        "colab": {
          "base_uri": "https://localhost:8080/"
        },
        "id": "f2P3HyJUpda7",
        "outputId": "b8c66e05-1456-4b48-f30f-297f9962de45"
      },
      "execution_count": 12,
      "outputs": [
        {
          "output_type": "stream",
          "name": "stdout",
          "text": [
            "Taxa de acerto 66.67\n"
          ]
        }
      ]
    },
    {
      "cell_type": "markdown",
      "source": [
        "Nessa aula aprendemos a:\n",
        "\n",
        "Treinar algoritmos;\n",
        "\n",
        "Definir características (features) do que desejamos classificar;\n",
        "\n",
        "Classificar em categorias;\n",
        "\n",
        "Utilizar o módulo linearSVC e accuracy_score;\n",
        "\n",
        "Utilizar o método fit;\n",
        "\n",
        "Prever dados com a função predict;\n",
        "\n",
        "Calcular a taxa de acerto do modelo;\n",
        "\n",
        "Comparar testes e previsões;\n",
        "\n",
        "Utilizar a função soma;\n",
        "\n",
        "Padronizar variáveis;"
      ],
      "metadata": {
        "id": "-pP1dnfhuEqz"
      }
    },
    {
      "cell_type": "code",
      "source": [],
      "metadata": {
        "id": "3t46ZPtyqxCu"
      },
      "execution_count": 7,
      "outputs": []
    }
  ]
}